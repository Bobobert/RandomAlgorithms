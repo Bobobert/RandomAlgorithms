{
 "cells": [
  {
   "cell_type": "code",
   "execution_count": 1,
   "metadata": {},
   "outputs": [],
   "source": [
    "using Random\n",
    "using Printf\n",
    "using PyCall"
   ]
  },
  {
   "cell_type": "code",
   "execution_count": 2,
   "metadata": {},
   "outputs": [],
   "source": [
    "function poly_eva(coefs::Array{Float64,1}, x::Float64, canon=true)\n",
    "    r = 0.0\n",
    "    if canon\n",
    "        for coef in coefs\n",
    "            r = x * r\n",
    "            r = coef + r\n",
    "        end\n",
    "    else\n",
    "        r = 1.0\n",
    "        erste = true\n",
    "        for coef in coefs\n",
    "            if erste\n",
    "                erste = false\n",
    "                continue\n",
    "            end\n",
    "            r = r * (x - coef)\n",
    "        end\n",
    "        if coefs[1] < 0.0\n",
    "            r = - r\n",
    "        end\n",
    "    end\n",
    "    return r\n",
    "end\n",
    "\n",
    "\n",
    "function rdm_comp(p1::Array{Float64,1}, p2::Array{Float64,1}, k=5::Int64)\n",
    "    ## P1 expects the Canonical-form poly\n",
    "    ## P2 expects the roots-form poly\n",
    "    d = length(p1)\n",
    "    inter = range(1, stop=100*d)\n",
    "    e = true\n",
    "    for i in range(1,stop=k)\n",
    "        x = convert(Float64, rand(inter))\n",
    "        f = poly_eva(p1, x)\n",
    "        g = poly_eva(p2, x, false)\n",
    "        if !(f ≈ g)\n",
    "            e = false\n",
    "            break\n",
    "        end\n",
    "    end\n",
    "    if !e\n",
    "            println(\"The polynomials are different.\")\n",
    "    else\n",
    "            @printf \"The polynomials are equal within an error of %5f\" (1/100^k)\n",
    "    end\n",
    "end"
   ]
  },
  {
   "cell_type": "code",
   "execution_count": 30,
   "metadata": {},
   "outputs": [
    {
     "name": "stdout",
     "output_type": "stream",
     "text": [
      "Please. Input the canonical form separated with spaces.\n"
     ]
    },
    {
     "name": "stdin",
     "output_type": "stream",
     "text": [
      "stdin>  1 5 -20 -60 144\n"
     ]
    },
    {
     "name": "stdout",
     "output_type": "stream",
     "text": [
      "Please. Input the numbers for the expanded form. Use a 1 or -1 in the begining to give the sign.\n",
      "\n"
     ]
    },
    {
     "name": "stdin",
     "output_type": "stream",
     "text": [
      "stdin>  1 -4 3 2 -6\n"
     ]
    },
    {
     "name": "stdout",
     "output_type": "stream",
     "text": [
      "The polynomials are equal within an error of 0.0000000.5043 ms"
     ]
    }
   ],
   "source": [
    "while true\n",
    "    println(\"Please. Input the canonical form separated with spaces.\")\n",
    "    canon_in = readline()\n",
    "    canon_ar = split(canon_in, \" \")\n",
    "    d = length(canon_ar)\n",
    "    println(\"Please. Input the numbers for the expanded form. Use a 1 or -1 in the begining to give the sign.\\n\")\n",
    "    exp_in = readline()\n",
    "    exp_ar = split(exp_in, \" \")\n",
    "    if length(exp_ar) != d\n",
    "        println(\"The expected number of elementes is not equal on the arrays. Please check again\")\n",
    "    else\n",
    "        canon = Array{Float64,1}(undef,d)\n",
    "        expanded = Array{Float64,1}(undef,d)\n",
    "\n",
    "        for i in range(1, stop=d)\n",
    "            canon[i] = tryparse(Float64, canon_ar[i])\n",
    "            expanded[i] = tryparse(Float64, exp_ar[i])\n",
    "        end\n",
    "        start = time_ns()\n",
    "        rdm_comp(canon,expanded)\n",
    "        print(\"\\n\",(time_ns()-start)/10^6,\" ms\")\n",
    "        break\n",
    "    end\n",
    "end\n",
    "           \n"
   ]
  }
 ],
 "metadata": {
  "kernelspec": {
   "display_name": "Julia 1.3.1",
   "language": "julia",
   "name": "julia-1.3"
  },
  "language_info": {
   "file_extension": ".jl",
   "mimetype": "application/julia",
   "name": "julia",
   "version": "1.3.1"
  }
 },
 "nbformat": 4,
 "nbformat_minor": 4
}
