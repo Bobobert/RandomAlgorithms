{
 "cells": [
  {
   "cell_type": "markdown",
   "metadata": {},
   "source": [
    "# Grafos aleatorios de Erdos\n",
    "*por Roberto Esteban López*"
   ]
  },
  {
   "cell_type": "code",
   "execution_count": 4,
   "metadata": {},
   "outputs": [],
   "source": [
    "import numpy as np\n",
    "import numpy.random as rdm"
   ]
  },
  {
   "cell_type": "code",
   "execution_count": 5,
   "metadata": {},
   "outputs": [],
   "source": [
    "class UGraph:\n",
    "    # Graphs are generated in adjacency lists. Each index of the list correpond to the same index of the node of the graph. And the contents of the list\n",
    "    # are the nodes to which the node is connected.\n",
    "    # Suppose is a undirected graph.\n",
    "\n",
    "    def __init__(self, n, p):\n",
    "        if n < 2:\n",
    "            raise Exception('Nodes need to be greater than 2')\n",
    "            n = 2\n",
    "        self.nodes_len = n\n",
    "        self.p = p\n",
    "        self.nodes = []\n",
    "        self.G, self.G_deg = self.gen_random_graph(n,p)\n",
    "        self.index = 0\n",
    "        self.convex = False\n",
    "        if n == self.BFS(self.G):\n",
    "            self.convex = True\n",
    "\n",
    "    def gen_random_graph(self, n, p):\n",
    "        G = []\n",
    "        cards = [] # Cardinality of each nodes or degree\n",
    "        self.nodes = [i for i in range(n)]\n",
    "        \n",
    "        for node in self.nodes:\n",
    "            new_edges = []\n",
    "            card = 0\n",
    "            for i in self.nodes:\n",
    "                if i == node:\n",
    "                    None # No autoconnections allowed\n",
    "                elif p >= rdm.random_sample():\n",
    "                    new_edges.append(i)\n",
    "                    card += 1\n",
    "            G.append(new_edges)\n",
    "            cards.append(card)\n",
    "            \n",
    "        return (G, cards)\n",
    "    \n",
    "    def __iter__(self):\n",
    "        return self\n",
    "    def __next__(self):\n",
    "        if self.index == self.nodes_len:\n",
    "            raise StopIteration\n",
    "        i = self.index\n",
    "        self.index += 1\n",
    "        return (i, self.G[i], self.G_deg[i])\n",
    "    # Returning the actual node, the nodes where it goes to and the degree of those\n",
    "    def __repr__(self):\n",
    "        return 'Undirected graph with {0} nodes. Convexity {1}'.format(self.nodes_len,self.convex)\n",
    "    \n",
    "    @staticmethod\n",
    "    def BFS(T, s=None, ls=None):\n",
    "        # T is the graph to discover. It can be feed as a adjacency list for indexes from 0 to nodes - 1\n",
    "        # S is the starting node, is None, then takes the first item of T\n",
    "        # ls is the number of nodes \n",
    "        if ls == None:\n",
    "            ls = len(T)\n",
    "        if s == None:\n",
    "            s = 0\n",
    "        discovered = np.zeros(ls, dtype=np.bool_)\n",
    "        discovered[s] = True\n",
    "        BFS_len = 1\n",
    "        L = [s]\n",
    "        while L != []:\n",
    "            L_1 = []\n",
    "            for u in L:\n",
    "                for v in T[u]:\n",
    "                    if not discovered[v]:\n",
    "                        discovered[v] = True\n",
    "                        L_1.append(v)\n",
    "                        BFS_len += 1\n",
    "            L = L_1\n",
    "        return BFS_len"
   ]
  },
  {
   "cell_type": "code",
   "execution_count": 6,
   "metadata": {},
   "outputs": [
    {
     "data": {
      "text/plain": [
       "True"
      ]
     },
     "execution_count": 6,
     "metadata": {},
     "output_type": "execute_result"
    }
   ],
   "source": [
    "A = UGraph(100, 0.05)\n",
    "A.convex"
   ]
  },
  {
   "cell_type": "code",
   "execution_count": 7,
   "metadata": {},
   "outputs": [
    {
     "data": {
      "text/plain": [
       "'for n in tqdm(n_test):\\n    test = []\\n    for p in p_test:\\n        positives = 0\\n        for _ in range(iterations):\\n            graph = UGraph(n,p)\\n            if graph.convex:\\n                positives += 1\\n        test.append(positives/iterations)\\n    tests.append(test)'"
      ]
     },
     "execution_count": 7,
     "metadata": {},
     "output_type": "execute_result"
    }
   ],
   "source": [
    "from tqdm import tqdm\n",
    "tests = []\n",
    "iterations = 10\n",
    "n_test = np.linspace(10**3, 10**4, num=5, dtype=np.int32)\n",
    "p_test = np.linspace(0.001, 0.2, num=10)\n",
    "# Monocore execution deprecated\n",
    "\"\"\"for n in tqdm(n_test):\n",
    "    test = []\n",
    "    for p in p_test:\n",
    "        positives = 0\n",
    "        for _ in range(iterations):\n",
    "            graph = UGraph(n,p)\n",
    "            if graph.convex:\n",
    "                positives += 1\n",
    "        test.append(positives/iterations)\n",
    "    tests.append(test)\"\"\""
   ]
  },
  {
   "cell_type": "code",
   "execution_count": 8,
   "metadata": {},
   "outputs": [],
   "source": [
    "from multiprocessing import Pool\n",
    "import seaborn as sns\n",
    "import matplotlib.pyplot as plt\n",
    "\n",
    "def evaluate_graph(SS):\n",
    "    n,p,iters = SS\n",
    "    positives = 0\n",
    "    for _ in range(iters):\n",
    "        graph = UGraph(n,p)\n",
    "        if graph.convex:\n",
    "            positives += 1\n",
    "    return positives/iters"
   ]
  },
  {
   "cell_type": "code",
   "execution_count": null,
   "metadata": {},
   "outputs": [
    {
     "name": "stderr",
     "output_type": "stream",
     "text": [
      "  0%|                                                                                            | 0/5 [00:00<?, ?it/s]"
     ]
    }
   ],
   "source": [
    "if __name__=='__main__':\n",
    "    for n in tqdm(n_test):\n",
    "        test = []\n",
    "        with Pool() as p:\n",
    "            test = p.map(evaluate_graph, [(n,i,iterations) for i in p_test])\n",
    "            p.close()\n",
    "            p.join()\n",
    "        tests.append(test)"
   ]
  },
  {
   "cell_type": "code",
   "execution_count": null,
   "metadata": {},
   "outputs": [],
   "source": [
    "fig, axs = plt.subplots(figsize=(12,10))\n",
    "heat = sns.heatmap(np.array(tests), vmin=0, ax=axs, xticklabels=n_test, yticklabels=p_test)\n",
    "axs.set(xlabel='n', ylabel='p', title=\"Average on {0} iterations for convexity on random graphs.\"%{iterations})\n",
    "plt.show()"
   ]
  },
  {
   "cell_type": "code",
   "execution_count": 3,
   "metadata": {},
   "outputs": [
    {
     "data": {
      "text/plain": [
       "['.git',\n",
       " '.ipynb_checkpoints',\n",
       " 'probs_c_and_k.gif',\n",
       " 'RA - hwp01.ipynb',\n",
       " 'RA-hwj01.ipynb',\n",
       " 'RA-hwj02.ipynb',\n",
       " 'RA-hwj03.ipynb',\n",
       " 'RA-hwp02.ipynb',\n",
       " 'RA-hwp03.ipynb',\n",
       " 'RA-hwp04.ipynb']"
      ]
     },
     "execution_count": 3,
     "metadata": {},
     "output_type": "execute_result"
    }
   ],
   "source": [
    "os.listdir()"
   ]
  },
  {
   "cell_type": "code",
   "execution_count": null,
   "metadata": {},
   "outputs": [],
   "source": []
  }
 ],
 "metadata": {
  "kernelspec": {
   "display_name": "Python 3",
   "language": "python",
   "name": "python3"
  },
  "language_info": {
   "codemirror_mode": {
    "name": "ipython",
    "version": 3
   },
   "file_extension": ".py",
   "mimetype": "text/x-python",
   "name": "python",
   "nbconvert_exporter": "python",
   "pygments_lexer": "ipython3",
   "version": "3.7.4"
  }
 },
 "nbformat": 4,
 "nbformat_minor": 4
}
