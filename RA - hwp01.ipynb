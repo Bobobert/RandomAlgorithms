{
 "cells": [
  {
   "cell_type": "code",
   "execution_count": 13,
   "metadata": {},
   "outputs": [],
   "source": [
    "# Importing libraries for python\n",
    "import numpy as np\n",
    "import numpy.random as rdm\n",
    "import re\n",
    "import math\n",
    "import time\n",
    "import matplotlib.pyplot as plt"
   ]
  },
  {
   "cell_type": "code",
   "execution_count": 2,
   "metadata": {},
   "outputs": [],
   "source": [
    "def poly_eva(coefs, x, canon = True):\n",
    "    ## Function to evaluate the polynomials, it returns a float number\n",
    "    r = 0.0\n",
    "    if canon:\n",
    "        for coef in coefs:\n",
    "            r = x * r\n",
    "            r = coef + r\n",
    "        return r\n",
    "    else:\n",
    "        r = 1\n",
    "        for coef in coefs[1:]:\n",
    "            r = r * (x - coef)\n",
    "        if coefs[0] < 0:\n",
    "            r = - r\n",
    "        return r\n",
    "\n",
    "def rdm_compr(p1, p2, k=5,bm=True):\n",
    "    ## P1 expects the Canonical-form poly\n",
    "    ## P2 expects the roots-form poly\n",
    "    start = 0\n",
    "    if not bm: start = time.time()\n",
    "    # Sampling in the sample space of {1, ..., 100d}\n",
    "    d = len(p1) - 1 ## Degree of the function, as in canonical form, is the number of coeficients minus 1 (taking into account the 0)\n",
    "    e = True ## e turns False if the polynomials get distinct, stays True while is not proven different.\n",
    "    for _ in range(k):\n",
    "        x = rdm.randint(1, 100*d+1)\n",
    "        f = poly_eva(p1, x)\n",
    "        g = poly_eva(p2, x, False)\n",
    "        if not math.isclose(f, g):\n",
    "            e = False \n",
    "            break\n",
    "            \n",
    "    if not bm:\n",
    "        if not e:\n",
    "            print('The polynomials are different.')\n",
    "            return 0\n",
    "        else:\n",
    "            print(\"The polynomials are equal within an error of %5f\" %(1/100**k))\n",
    "        tot_time = (time.time()-start)*1000 # in ms\n",
    "        print(\"%.4f ms\" % tot_time)\n",
    "            return 1\n",
    "    else:\n",
    "        if e:\n",
    "            return 1\n",
    "        else:\n",
    "            return 0"
   ]
  },
  {
   "cell_type": "code",
   "execution_count": null,
   "metadata": {},
   "outputs": [],
   "source": [
    "while 1:\n",
    "    canon = input('Please. Input the canonical form separated with spaces.\\n')\n",
    "    expanded = input('Please. Input the numbers for the expanded form. Use a 1 or -1 in the begining to give the sign.\\n')\n",
    "    canon_ar = re.findall('[0-9\\.\\-]+', canon)\n",
    "    expanded_ar = re.findall('[0-9\\.\\-]+', expanded)\n",
    "    if len(canon_ar) != len(expanded_ar):\n",
    "        print('The expected number of elementes is not equal on the arrays. Please check again')\n",
    "    else:\n",
    "        print('Ok!')\n",
    "        p1,p2 = [], []\n",
    "        for i in range(len(canon_ar)):\n",
    "            p1.append(float(canon_ar[i]))\n",
    "            p2.append(float(expanded_ar[i]))\n",
    "        rdm_compr(p1,p2,bm=False)\n",
    "        break\n",
    "\n"
   ]
  },
  {
   "cell_type": "code",
   "execution_count": 24,
   "metadata": {
    "jupyter": {
     "source_hidden": true
    }
   },
   "outputs": [],
   "source": [
    "## Generate a poly samples to test\n",
    "file = open('tests.txt', 'w')\n",
    "\n",
    "for i in range(3,21):\n",
    "    p = []\n",
    "    file.write('1 ')\n",
    "    for j in range(i):\n",
    "        new_root = rdm.randint(1, 100*i+1)\n",
    "        p.append(new_root)\n",
    "        file.write(str(new_root)+' ')\n",
    "    p_canon = np.poly(p)\n",
    "    file.write('; ')\n",
    "    for term in p_canon:\n",
    "        file.write(str(term)+' ')\n",
    "    file.write('\\n')\n",
    "file.close()\n",
    "    \n",
    "    "
   ]
  },
  {
   "cell_type": "code",
   "execution_count": 32,
   "metadata": {},
   "outputs": [],
   "source": [
    "# Python benchmark\n",
    "\n",
    "avr_times = []\n",
    "correct = []\n",
    "\n",
    "#Warm loop\n",
    "i = 0\n",
    "while i != 1000:\n",
    "    i += 1\n",
    "    rdm.choice(10212, 100)\n",
    "    \n",
    "for d in range(3,21):\n",
    "    p2 = [1]\n",
    "    p2_ = rdm.choice(1*d+1, d, replace=False).tolist()\n",
    "    p2 = p2 + p2_\n",
    "    p1 = np.poly(p2_).tolist()\n",
    "    i,c,t = 0,0,[]\n",
    "    while i < 1000:\n",
    "        start = time.time()\n",
    "        c += rdm_compr(p1,p2)\n",
    "        t.append((time.time() - start)*1000) ## in ms\n",
    "        i += 1\n",
    "    avr_times.append(np.mean(t))\n",
    "    correct.append(c)\n",
    "\n"
   ]
  },
  {
   "cell_type": "code",
   "execution_count": 33,
   "metadata": {},
   "outputs": [
    {
     "data": {
      "image/png": "[encoded data removed]",
      "text/plain": [
       "<Figure size 432x288 with 1 Axes>"
      ]
     },
     "metadata": {
      "needs_background": "light"
     },
     "output_type": "display_data"
    }
   ],
   "source": [
    "fig, axs = plt.subplots()\n",
    "plt.plot(range(3,21),avr_times)\n",
    "plt.title(\"Avg Time vs Degree of pol\")\n",
    "plt.show()"
   ]
  },
  {
   "cell_type": "code",
   "execution_count": null,
   "metadata": {},
   "outputs": [],
   "source": []
  }
 ],
 "metadata": {
  "kernelspec": {
   "display_name": "Python 3",
   "language": "python",
   "name": "python3"
  },
  "language_info": {
   "codemirror_mode": {
    "name": "ipython",
    "version": 3
   },
   "file_extension": ".py",
   "mimetype": "text/x-python",
   "name": "python",
   "nbconvert_exporter": "python",
   "pygments_lexer": "ipython3",
   "version": "3.7.4"
  }
 },
 "nbformat": 4,
 "nbformat_minor": 4
}
